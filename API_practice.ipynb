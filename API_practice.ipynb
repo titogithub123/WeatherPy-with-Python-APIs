{
 "cells": [
  {
   "cell_type": "code",
   "execution_count": 52,
   "id": "8cd04daa-8a10-44ae-9da4-2ba710130099",
   "metadata": {},
   "outputs": [
    {
     "name": "stdout",
     "output_type": "stream",
     "text": [
      "Requirement already satisfied: citipy in c:\\users\\itsloaner.desktop-r7ctl01\\anaconda3\\lib\\site-packages (0.0.5)\n",
      "Requirement already satisfied: kdtree>=0.12 in c:\\users\\itsloaner.desktop-r7ctl01\\anaconda3\\lib\\site-packages (from citipy) (0.16)\n"
     ]
    }
   ],
   "source": [
    "!pip install citipy\n",
    "# Use the citipy module to determine city based on latitude and longitude.\n",
    "from citipy import citipy"
   ]
  },
  {
   "cell_type": "code",
   "execution_count": 53,
   "id": "18a55a4a-3aa2-499e-b1af-d5f52689cb44",
   "metadata": {},
   "outputs": [],
   "source": [
    "# Create a practice set of random latitude and longitude combinations.\n",
    "x = [25.12903645, 25.92017388, 26.62509167, -59.98969384, 37.30571269]\n",
    "y = [-67.59741259, 11.09532135, 74.84233102, -76.89176677, -61.13376282]\n",
    "coordinates = list(zip(x, y))"
   ]
  },
  {
   "cell_type": "code",
   "execution_count": 54,
   "id": "7120e60a-7461-44fe-9505-fad10322c262",
   "metadata": {},
   "outputs": [
    {
     "data": {
      "text/plain": [
       "[(25.12903645, -67.59741259),\n",
       " (25.92017388, 11.09532135),\n",
       " (26.62509167, 74.84233102),\n",
       " (-59.98969384, -76.89176677),\n",
       " (37.30571269, -61.13376282)]"
      ]
     },
     "execution_count": 54,
     "metadata": {},
     "output_type": "execute_result"
    }
   ],
   "source": [
    "# Call the zip file.\n",
    "coordinates"
   ]
  },
  {
   "cell_type": "code",
   "execution_count": 55,
   "id": "85a34d91-2c82-41c2-9316-fdc8c1ed27ed",
   "metadata": {},
   "outputs": [
    {
     "name": "stdout",
     "output_type": "stream",
     "text": [
      "25.12903645 -67.59741259\n",
      "25.92017388 11.09532135\n",
      "26.62509167 74.84233102\n",
      "-59.98969384 -76.89176677\n",
      "37.30571269 -61.13376282\n"
     ]
    }
   ],
   "source": [
    "# Use the tuple() function to display the latitude and longitude combination. \n",
    "for coordinate in coordinates:\n",
    "    print(coordinate[0], coordinate[-1])"
   ]
  },
  {
   "cell_type": "code",
   "execution_count": 56,
   "id": "60821a9b-90db-401f-9f38-e9a2f9915bdd",
   "metadata": {},
   "outputs": [
    {
     "name": "stdout",
     "output_type": "stream",
     "text": [
      "Requirement already satisfied: citipy in c:\\users\\itsloaner.desktop-r7ctl01\\anaconda3\\lib\\site-packages (0.0.5)\n",
      "Requirement already satisfied: kdtree>=0.12 in c:\\users\\itsloaner.desktop-r7ctl01\\anaconda3\\lib\\site-packages (from citipy) (0.16)\n"
     ]
    }
   ],
   "source": [
    "!pip install citipy"
   ]
  },
  {
   "cell_type": "code",
   "execution_count": 57,
   "id": "73e85c24-1b78-4eca-87ab-e479c747a781",
   "metadata": {},
   "outputs": [],
   "source": [
    "# Use the citipy module to determine city based on latitude and longitude.\n",
    "from citipy import citipy"
   ]
  },
  {
   "cell_type": "code",
   "execution_count": 58,
   "id": "8c5b77be-aedb-4d2b-a023-f3a81e831076",
   "metadata": {},
   "outputs": [
    {
     "name": "stdout",
     "output_type": "stream",
     "text": [
      "(25.12903645, -67.59741259)\n",
      "(25.92017388, 11.09532135)\n",
      "(26.62509167, 74.84233102)\n",
      "(-59.98969384, -76.89176677)\n",
      "(37.30571269, -61.13376282)\n"
     ]
    }
   ],
   "source": [
    "# Use the tuple() function to display the latitude and longitude combination.\n",
    "names = []\n",
    "for coordinate in list(coordinates):\n",
    "    print(coordinate)\n",
    "    names.append((citipy.nearest_city(coordinate[0], coordinate[1]).city_name,\n",
    "          citipy.nearest_city(coordinate[0], coordinate[1]).country_code))"
   ]
  },
  {
   "cell_type": "code",
   "execution_count": 59,
   "id": "5cfd4f5a-a934-4b64-ac10-bdd418e9db2a",
   "metadata": {},
   "outputs": [
    {
     "data": {
      "text/plain": [
       "'saint george'"
      ]
     },
     "execution_count": 59,
     "metadata": {},
     "output_type": "execute_result"
    }
   ],
   "source": [
    "citipy.nearest_city(coordinate[0], coordinate[1]).city_name"
   ]
  },
  {
   "cell_type": "code",
   "execution_count": 60,
   "id": "ec7d5707-7e82-4dc8-9d87-eb268df08703",
   "metadata": {},
   "outputs": [
    {
     "data": {
      "text/plain": [
       "[(25.12903645, -67.59741259),\n",
       " (25.92017388, 11.09532135),\n",
       " (26.62509167, 74.84233102),\n",
       " (-59.98969384, -76.89176677),\n",
       " (37.30571269, -61.13376282)]"
      ]
     },
     "execution_count": 60,
     "metadata": {},
     "output_type": "execute_result"
    }
   ],
   "source": [
    "coordinates"
   ]
  },
  {
   "cell_type": "code",
   "execution_count": 61,
   "id": "052a5039-788c-47af-bfbc-30c701ff2e9c",
   "metadata": {},
   "outputs": [
    {
     "name": "stdout",
     "output_type": "stream",
     "text": [
      "cockburn town tc\n",
      "gat ly\n",
      "parvatsar in\n",
      "punta arenas cl\n",
      "saint george bm\n"
     ]
    }
   ],
   "source": [
    "# Use the tuple() function to display the latitude and longitude combinations.\n",
    "for coordinate in coordinates:\n",
    "    print(citipy.nearest_city(coordinate[0], coordinate[1]).city_name,\n",
    "          citipy.nearest_city(coordinate[0], coordinate[1]).country_code)"
   ]
  },
  {
   "cell_type": "code",
   "execution_count": 62,
   "id": "7e130c66-4bc9-4fc7-965b-727c23850e01",
   "metadata": {},
   "outputs": [],
   "source": [
    "# Import the request library.\n",
    "import requests"
   ]
  },
  {
   "cell_type": "code",
   "execution_count": 63,
   "id": "fbec602e-3ddc-495d-ad54-aa474ec42d84",
   "metadata": {},
   "outputs": [],
   "source": [
    "# Import the API key.\n",
    "from config import weather_api_key"
   ]
  },
  {
   "cell_type": "code",
   "execution_count": 64,
   "id": "c94068db-f2ba-446b-a8b4-655f0e35e7fa",
   "metadata": {},
   "outputs": [],
   "source": [
    "# Starting URL for Weather Map API Call.\n",
    "url = \"http://api.openweathermap.org/data/2.5/weather?units=Imperial&APPID=\" + weather_api_key"
   ]
  },
  {
   "cell_type": "code",
   "execution_count": 65,
   "id": "2f2428d2-2dd3-498a-979d-c78410e6d7de",
   "metadata": {},
   "outputs": [
    {
     "data": {
      "text/plain": [
       "'http://api.openweathermap.org/data/2.5/weather?units=Imperial&APPID=92fc17f4479f53e2bdabb25a01a5bdca'"
      ]
     },
     "execution_count": 65,
     "metadata": {},
     "output_type": "execute_result"
    }
   ],
   "source": [
    "url"
   ]
  },
  {
   "cell_type": "code",
   "execution_count": 66,
   "id": "93b8c398-059b-462e-8073-5ce0a6433aa3",
   "metadata": {},
   "outputs": [],
   "source": [
    "# Create an endpoint URL for a city.\n",
    "city_url = url + \"&q=\" + \"Boston\""
   ]
  },
  {
   "cell_type": "code",
   "execution_count": 67,
   "id": "a571853d-fc1a-4b04-a93d-a202ae344910",
   "metadata": {},
   "outputs": [
    {
     "name": "stdout",
     "output_type": "stream",
     "text": [
      "http://api.openweathermap.org/data/2.5/weather?units=Imperial&APPID=92fc17f4479f53e2bdabb25a01a5bdca&q=Boston\n"
     ]
    }
   ],
   "source": [
    "# Print city_url.\n",
    "print(city_url)"
   ]
  },
  {
   "cell_type": "code",
   "execution_count": 68,
   "id": "a148a57b-3276-4fe2-89f4-f533b9281420",
   "metadata": {},
   "outputs": [
    {
     "data": {
      "text/plain": [
       "<Response [200]>"
      ]
     },
     "execution_count": 68,
     "metadata": {},
     "output_type": "execute_result"
    }
   ],
   "source": [
    "# Make a \"Get\" request for the city weather. \n",
    "city_weather = requests.get(city_url)\n",
    "city_weather"
   ]
  },
  {
   "cell_type": "code",
   "execution_count": 69,
   "id": "c1c8c041-0c35-4bcd-aedd-ebd3105e704f",
   "metadata": {},
   "outputs": [
    {
     "data": {
      "text/plain": [
       "200"
      ]
     },
     "execution_count": 69,
     "metadata": {},
     "output_type": "execute_result"
    }
   ],
   "source": [
    "city_weather.status_code"
   ]
  },
  {
   "cell_type": "code",
   "execution_count": 70,
   "id": "b867fa11-d7d9-4d2e-9291-636e8a513e5e",
   "metadata": {},
   "outputs": [
    {
     "data": {
      "text/plain": [
       "<Response [200]>"
      ]
     },
     "execution_count": 70,
     "metadata": {},
     "output_type": "execute_result"
    }
   ],
   "source": [
    "# Create an endpoint URL for a city. (mispelled city name)\n",
    "city_url = url + \"&q=\" + \"Boston\"\n",
    "city_weather = requests.get(city_url)\n",
    "city_weather"
   ]
  },
  {
   "cell_type": "code",
   "execution_count": 71,
   "id": "dad7a787-f47e-4677-9f7a-bd7c4f6df43d",
   "metadata": {},
   "outputs": [
    {
     "data": {
      "text/plain": [
       "'{\"coord\":{\"lon\":-71.0598,\"lat\":42.3584},\"weather\":[{\"id\":804,\"main\":\"Clouds\",\"description\":\"overcast clouds\",\"icon\":\"04n\"}],\"base\":\"stations\",\"main\":{\"temp\":35.15,\"feels_like\":29.98,\"temp_min\":31.75,\"temp_max\":37.22,\"pressure\":989,\"humidity\":84},\"visibility\":10000,\"wind\":{\"speed\":5.99,\"deg\":348,\"gust\":15.99},\"clouds\":{\"all\":100},\"dt\":1642479881,\"sys\":{\"type\":2,\"id\":2013408,\"country\":\"US\",\"sunrise\":1642421382,\"sunset\":1642455514},\"timezone\":-18000,\"id\":4930956,\"name\":\"Boston\",\"cod\":200}'"
      ]
     },
     "execution_count": 71,
     "metadata": {},
     "output_type": "execute_result"
    }
   ],
   "source": [
    "# Get the text of the \"Get\" request.\n",
    "city_weather.text"
   ]
  },
  {
   "cell_type": "code",
   "execution_count": 72,
   "id": "28357984-abc7-4a29-a825-9c54910db80e",
   "metadata": {},
   "outputs": [
    {
     "data": {
      "text/plain": [
       "{'coord': {'lon': -71.0598, 'lat': 42.3584},\n",
       " 'weather': [{'id': 804,\n",
       "   'main': 'Clouds',\n",
       "   'description': 'overcast clouds',\n",
       "   'icon': '04n'}],\n",
       " 'base': 'stations',\n",
       " 'main': {'temp': 35.15,\n",
       "  'feels_like': 29.98,\n",
       "  'temp_min': 31.75,\n",
       "  'temp_max': 37.22,\n",
       "  'pressure': 989,\n",
       "  'humidity': 84},\n",
       " 'visibility': 10000,\n",
       " 'wind': {'speed': 5.99, 'deg': 348, 'gust': 15.99},\n",
       " 'clouds': {'all': 100},\n",
       " 'dt': 1642479881,\n",
       " 'sys': {'type': 2,\n",
       "  'id': 2013408,\n",
       "  'country': 'US',\n",
       "  'sunrise': 1642421382,\n",
       "  'sunset': 1642455514},\n",
       " 'timezone': -18000,\n",
       " 'id': 4930956,\n",
       " 'name': 'Boston',\n",
       " 'cod': 200}"
      ]
     },
     "execution_count": 72,
     "metadata": {},
     "output_type": "execute_result"
    }
   ],
   "source": [
    "# Get the json() attribute with our response and run the cell.\n",
    "city_weather.json()"
   ]
  },
  {
   "cell_type": "code",
   "execution_count": 73,
   "id": "07b16861-233a-4265-8608-aaef239f03b9",
   "metadata": {},
   "outputs": [
    {
     "name": "stdout",
     "output_type": "stream",
     "text": [
      "City Weather Found.\n"
     ]
    }
   ],
   "source": [
    "# Create an endpoint URL for a city.\n",
    "city_url = url + \"&q=\" + \"Boston\"\n",
    "city_weather = requests.get(city_url)\n",
    "if city_weather.status_code == 200:\n",
    "    print(f\"City Weather Found.\")\n",
    "else:\n",
    "    print(f\"City Weather not found\")"
   ]
  },
  {
   "cell_type": "code",
   "execution_count": 74,
   "id": "9b1018b9-b490-45f9-9466-d40b1249990b",
   "metadata": {},
   "outputs": [
    {
     "name": "stdout",
     "output_type": "stream",
     "text": [
      "City weather not found.\n"
     ]
    }
   ],
   "source": [
    "# Create an endpoint URL for a city. (Error)\n",
    "city_url = url + \"&q=\" + \"Bston\"\n",
    "city_weather = requests.get(city_url)\n",
    "if city_weather.status_code == 200:\n",
    "    print(f\"City Weather found.\")\n",
    "else:\n",
    "    print(f\"City weather not found.\")"
   ]
  },
  {
   "cell_type": "code",
   "execution_count": 75,
   "id": "86928f6d-7160-40f8-b980-d7920ed4a20c",
   "metadata": {},
   "outputs": [
    {
     "name": "stdout",
     "output_type": "stream",
     "text": [
      "http://api.openweathermap.org/data/2.5/weather?units=Imperial&APPID=92fc17f4479f53e2bdabb25a01a5bdca&q=Bston\n"
     ]
    }
   ],
   "source": [
    "print(city_url)"
   ]
  },
  {
   "cell_type": "code",
   "execution_count": 76,
   "id": "6c2b3579-c3f1-4410-9502-cd1427962e24",
   "metadata": {},
   "outputs": [],
   "source": [
    "# For each city in lat. and lon. list... (Psuedocode)\n",
    "#     City, country, and date\n",
    "#     Latitude and longitude\n",
    "#     Maximum temperature\n",
    "#     Humidity\n",
    "#     Cloudiness\n",
    "#     Wind speed"
   ]
  },
  {
   "cell_type": "code",
   "execution_count": 77,
   "id": "cae52fb4-45e8-4ab5-a400-41fe3b413535",
   "metadata": {},
   "outputs": [
    {
     "data": {
      "text/plain": [
       "{'coord': {'lon': -71.0598, 'lat': 42.3584},\n",
       " 'weather': [{'id': 804,\n",
       "   'main': 'Clouds',\n",
       "   'description': 'overcast clouds',\n",
       "   'icon': '04n'}],\n",
       " 'base': 'stations',\n",
       " 'main': {'temp': 35.15,\n",
       "  'feels_like': 29.98,\n",
       "  'temp_min': 31.75,\n",
       "  'temp_max': 37.22,\n",
       "  'pressure': 989,\n",
       "  'humidity': 84},\n",
       " 'visibility': 10000,\n",
       " 'wind': {'speed': 5.99, 'deg': 348, 'gust': 15.99},\n",
       " 'clouds': {'all': 100},\n",
       " 'dt': 1642479881,\n",
       " 'sys': {'type': 2,\n",
       "  'id': 2013408,\n",
       "  'country': 'US',\n",
       "  'sunrise': 1642421382,\n",
       "  'sunset': 1642455514},\n",
       " 'timezone': -18000,\n",
       " 'id': 4930956,\n",
       " 'name': 'Boston',\n",
       " 'cod': 200}"
      ]
     },
     "execution_count": 77,
     "metadata": {},
     "output_type": "execute_result"
    }
   ],
   "source": [
    "# Create an endpoint URL for a city.\n",
    "city_url = url + \"&q=\" + \"Boston\"\n",
    "city_weather = requests.get(city_url)\n",
    "city_weather.json()"
   ]
  },
  {
   "cell_type": "code",
   "execution_count": 80,
   "id": "eaf62a23-d07b-48b7-9a33-f89e54fd6db7",
   "metadata": {},
   "outputs": [],
   "source": [
    "# Get the JSON data. \n",
    "boston_data = city_weather.json()"
   ]
  },
  {
   "cell_type": "code",
   "execution_count": 81,
   "id": "08d91028-c90a-4454-a561-1b5a7be36980",
   "metadata": {},
   "outputs": [
    {
     "data": {
      "text/plain": [
       "{'type': 2,\n",
       " 'id': 2013408,\n",
       " 'country': 'US',\n",
       " 'sunrise': 1642421382,\n",
       " 'sunset': 1642455514}"
      ]
     },
     "execution_count": 81,
     "metadata": {},
     "output_type": "execute_result"
    }
   ],
   "source": [
    "# Use sys key to get corresponding nested 'dictionary' values. \n",
    "boston_data['sys']"
   ]
  },
  {
   "cell_type": "code",
   "execution_count": 82,
   "id": "7f141846-665a-4a46-8f15-76db9f2194c6",
   "metadata": {},
   "outputs": [
    {
     "data": {
      "text/plain": [
       "'US'"
      ]
     },
     "execution_count": 82,
     "metadata": {},
     "output_type": "execute_result"
    }
   ],
   "source": [
    "# Filter by country.\n",
    "boston_data['sys']['country']"
   ]
  },
  {
   "cell_type": "code",
   "execution_count": 83,
   "id": "a7fc209b-6eaa-4040-99ac-1efe80f62857",
   "metadata": {},
   "outputs": [
    {
     "data": {
      "text/plain": [
       "1642479881"
      ]
     },
     "execution_count": 83,
     "metadata": {},
     "output_type": "execute_result"
    }
   ],
   "source": [
    "# Retrieve the date in database timestamp format. \n",
    "boston_data['dt']"
   ]
  },
  {
   "cell_type": "code",
   "execution_count": 100,
   "id": "c0d91d61-ec6d-431a-aa47-9e9b24c03a62",
   "metadata": {},
   "outputs": [
    {
     "name": "stdout",
     "output_type": "stream",
     "text": [
      "42.3584 -71.0598 37.22 84 100 5.99\n"
     ]
    }
   ],
   "source": [
    "# Retrieve further data.\n",
    "lat = boston_data['coord']['lat']\n",
    "lng = boston_data['coord']['lon']\n",
    "max_temp = boston_data['main']['temp_max'] # degrees fairenheit\n",
    "humidity = boston_data['main']['humidity'] # percent\n",
    "clouds = boston_data['clouds']['all']      # percent\n",
    "wind = boston_data['wind']['speed']        # mph\n",
    "print(lat, lng, max_temp, humidity, clouds, wind)"
   ]
  },
  {
   "cell_type": "code",
   "execution_count": 99,
   "id": "890f4d46-37a1-49f8-bb8d-f81917a3d579",
   "metadata": {},
   "outputs": [
    {
     "data": {
      "text/plain": [
       "5.99"
      ]
     },
     "execution_count": 99,
     "metadata": {},
     "output_type": "execute_result"
    }
   ],
   "source": [
    "# Test cell - iterative.\n",
    "lat\n",
    "lng\n",
    "max_temp\n",
    "humidity\n",
    "clouds\n",
    "wind"
   ]
  },
  {
   "cell_type": "code",
   "execution_count": 101,
   "id": "dbde6948-006b-41a3-9c98-75ca15f64f24",
   "metadata": {},
   "outputs": [],
   "source": [
    "# Coordinated Universal Time (UTC) or Greenwich Mean Time (GMT)\n",
    "# International Organization for Standardization (ISO) format, or YYYY-MM-DD-HH-MM-SS"
   ]
  },
  {
   "cell_type": "code",
   "execution_count": 105,
   "id": "0def4a40-1f42-4cd3-b468-32cdbb679351",
   "metadata": {},
   "outputs": [
    {
     "data": {
      "text/plain": [
       "datetime.datetime(2022, 1, 18, 4, 24, 41)"
      ]
     },
     "execution_count": 105,
     "metadata": {},
     "output_type": "execute_result"
    }
   ],
   "source": [
    "# Import the datetime module from the datetime library. \n",
    "from datetime import datetime\n",
    "# Get the date from the JSON file. \n",
    "date = boston_data['dt']\n",
    "# Convert the UTC date to a date format with year, month, day, hours, minutes, and seconds.\n",
    "datetime.utcfromtimestamp(date)"
   ]
  },
  {
   "cell_type": "code",
   "execution_count": 112,
   "id": "64bb8c72-e588-4dc4-9da9-ffeb29393ee7",
   "metadata": {},
   "outputs": [
    {
     "data": {
      "text/plain": [
       "'2022-01-18 04-24-41'"
      ]
     },
     "execution_count": 112,
     "metadata": {},
     "output_type": "execute_result"
    }
   ],
   "source": [
    "# Convert to ISO format.\n",
    "datetime.utcfromtimestamp(date).strftime('%Y-%m-%d %H-%M-%S')"
   ]
  },
  {
   "cell_type": "code",
   "execution_count": 1,
   "id": "a0b322dc-2e5d-4522-9e54-1c575721d0cc",
   "metadata": {},
   "outputs": [
    {
     "data": {
      "text/plain": [
       "1642872314.1776795"
      ]
     },
     "execution_count": 1,
     "metadata": {},
     "output_type": "execute_result"
    }
   ],
   "source": [
    "# Import the time module.\n",
    "import time\n",
    "# Get today's date in seconds. \n",
    "today = time.time()\n",
    "today"
   ]
  },
  {
   "cell_type": "code",
   "execution_count": 2,
   "id": "32898852-07cd-4c74-b180-2b1571594524",
   "metadata": {},
   "outputs": [
    {
     "data": {
      "text/plain": [
       "'01/22/22'"
      ]
     },
     "execution_count": 2,
     "metadata": {},
     "output_type": "execute_result"
    }
   ],
   "source": [
    "# Convert time using string format. \n",
    "today = time.strftime(\"%x\")\n",
    "today"
   ]
  },
  {
   "cell_type": "code",
   "execution_count": null,
   "id": "feaac089-acbe-44cd-9fc7-a2aca28be556",
   "metadata": {},
   "outputs": [],
   "source": []
  }
 ],
 "metadata": {
  "kernelspec": {
   "display_name": "Python 3",
   "language": "python",
   "name": "python3"
  },
  "language_info": {
   "codemirror_mode": {
    "name": "ipython",
    "version": 3
   },
   "file_extension": ".py",
   "mimetype": "text/x-python",
   "name": "python",
   "nbconvert_exporter": "python",
   "pygments_lexer": "ipython3",
   "version": "3.8.8"
  }
 },
 "nbformat": 4,
 "nbformat_minor": 5
}

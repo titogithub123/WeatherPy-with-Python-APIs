{
 "cells": [
  {
   "cell_type": "code",
   "execution_count": 1,
   "id": "6c9732d5-0e13-4c7b-b54f-08878b2f79d1",
   "metadata": {},
   "outputs": [],
   "source": [
    "# Import the random module.\n",
    "import random"
   ]
  },
  {
   "cell_type": "code",
   "execution_count": 2,
   "id": "4c7c3ad3-840c-42d3-8ff7-0bebe5088ded",
   "metadata": {},
   "outputs": [
    {
     "data": {
      "text/plain": [
       "-55"
      ]
     },
     "execution_count": 2,
     "metadata": {},
     "output_type": "execute_result"
    }
   ],
   "source": [
    "random.randint(-90, 90)"
   ]
  },
  {
   "cell_type": "code",
   "execution_count": 3,
   "id": "d6de1097-f05f-432e-b2b0-3e32505211be",
   "metadata": {},
   "outputs": [
    {
     "data": {
      "text/plain": [
       "0.2654271624767168"
      ]
     },
     "execution_count": 3,
     "metadata": {},
     "output_type": "execute_result"
    }
   ],
   "source": [
    "random.random()"
   ]
  },
  {
   "cell_type": "code",
   "execution_count": 4,
   "id": "8c061a56-a829-4d72-bf45-dd98d1c16717",
   "metadata": {},
   "outputs": [
    {
     "data": {
      "text/plain": [
       "-2.260517966683307"
      ]
     },
     "execution_count": 4,
     "metadata": {},
     "output_type": "execute_result"
    }
   ],
   "source": [
    "random_number = random.randint(-90, 89) + random.random()\n",
    "random_number"
   ]
  },
  {
   "cell_type": "code",
   "execution_count": 5,
   "id": "9b2a0727-dc73-4165-b6b8-8e0958c96290",
   "metadata": {},
   "outputs": [],
   "source": [
    "# Method 1 to generate random latitudes.\n",
    "x = 1 \n",
    "latitudes = []\n",
    "while x < 11:\n",
    "    random_lat = random.randint(-90, 89) + random.random()\n",
    "    latitudes.append(random_lat)\n",
    "    x += 1"
   ]
  },
  {
   "cell_type": "code",
   "execution_count": 6,
   "id": "f4d03308-3c31-40a0-b1ea-e0c968574ead",
   "metadata": {},
   "outputs": [
    {
     "data": {
      "text/plain": [
       "[30.331224675689963,\n",
       " -38.03152227135003,\n",
       " -51.91964590776955,\n",
       " 7.702293442070296,\n",
       " 83.59701488668637,\n",
       " 11.880905335150448,\n",
       " -52.716326382105684,\n",
       " -83.29583297958642,\n",
       " -50.34451964539873,\n",
       " -80.79129069584745]"
      ]
     },
     "execution_count": 6,
     "metadata": {},
     "output_type": "execute_result"
    }
   ],
   "source": [
    "latitudes"
   ]
  },
  {
   "cell_type": "code",
   "execution_count": 7,
   "id": "e270b10e-827a-44e3-ac89-118ea9ef46df",
   "metadata": {},
   "outputs": [
    {
     "data": {
      "text/plain": [
       "42"
      ]
     },
     "execution_count": 7,
     "metadata": {},
     "output_type": "execute_result"
    }
   ],
   "source": [
    "random.randrange(-90, 90, step=1)\n"
   ]
  },
  {
   "cell_type": "code",
   "execution_count": 8,
   "id": "4c502a12-cdb8-4b94-8f5c-df47f32d1b17",
   "metadata": {},
   "outputs": [
    {
     "data": {
      "text/plain": [
       "84"
      ]
     },
     "execution_count": 8,
     "metadata": {},
     "output_type": "execute_result"
    }
   ],
   "source": [
    "random.randrange(-90, 90, step=3)"
   ]
  },
  {
   "cell_type": "code",
   "execution_count": 9,
   "id": "c1f18247-c74d-4397-bf8b-a8388141c0e1",
   "metadata": {},
   "outputs": [
    {
     "data": {
      "text/plain": [
       "-75.16622884873199"
      ]
     },
     "execution_count": 9,
     "metadata": {},
     "output_type": "execute_result"
    }
   ],
   "source": [
    "random.uniform(-90, 90)"
   ]
  },
  {
   "cell_type": "code",
   "execution_count": 10,
   "id": "48752bdd-521b-4c81-a6d8-aa77e347d734",
   "metadata": {},
   "outputs": [],
   "source": [
    "# Import the NumPy module.\n",
    "import numpy as np"
   ]
  },
  {
   "cell_type": "code",
   "execution_count": 11,
   "id": "34b999b5-fb86-4813-9b9f-02f74c80ac80",
   "metadata": {},
   "outputs": [
    {
     "data": {
      "text/plain": [
       "-31.10419448080809"
      ]
     },
     "execution_count": 11,
     "metadata": {},
     "output_type": "execute_result"
    }
   ],
   "source": [
    "np.random.uniform(-90., 90.)"
   ]
  },
  {
   "cell_type": "code",
   "execution_count": 12,
   "id": "00518439-2665-42ed-a064-c60360a72f63",
   "metadata": {},
   "outputs": [
    {
     "data": {
      "text/plain": [
       "array([-60.68089663,  59.96211469, -65.0223164 , -28.43162026,\n",
       "       -37.74112631,  74.62233146,  66.58658947,  51.05504471,\n",
       "       -84.28099283,  40.47974899, -30.73235243, -62.78821666,\n",
       "        -8.96918057,  58.55945959,  -8.28302602, -31.8319527 ,\n",
       "        30.59593061,   1.82657316,  52.99923584,  32.9686926 ,\n",
       "       -42.11229654, -31.99878991,  79.57907642,  66.65361649,\n",
       "       -39.81084988,  43.85289884, -85.42336746, -52.86859336,\n",
       "        10.20540282,  12.32873325, -64.39711469,  66.37426772,\n",
       "        -3.60185548,   0.36089319, -69.7341473 ,   2.50679372,\n",
       "        22.39261444, -65.20620011, -40.84241531,  13.16365592,\n",
       "        71.85751603, -55.79571539, -18.82333745, -30.70217719,\n",
       "        60.81302055,  35.67274722,  66.55709539,  24.9995983 ,\n",
       "        83.64954191, -53.52157623])"
      ]
     },
     "execution_count": 12,
     "metadata": {},
     "output_type": "execute_result"
    }
   ],
   "source": [
    "np.random.uniform(-90., 90., size=50)"
   ]
  },
  {
   "cell_type": "code",
   "execution_count": 18,
   "id": "c5c7dc62-0f28-452f-af8f-f61ea298fb1a",
   "metadata": {},
   "outputs": [],
   "source": [
    "# Import timeit.\n",
    "import timeit"
   ]
  },
  {
   "cell_type": "code",
   "execution_count": 19,
   "id": "f5f59c6b-4d8f-44e0-9fa0-6b5f479aae0a",
   "metadata": {},
   "outputs": [
    {
     "name": "stdout",
     "output_type": "stream",
     "text": [
      "15.9 µs ± 344 ns per loop (mean ± std. dev. of 7 runs, 100000 loops each)\n"
     ]
    }
   ],
   "source": [
    "%timeit np.random.uniform(-90., 90., size=1500) "
   ]
  },
  {
   "cell_type": "code",
   "execution_count": 20,
   "id": "76a1c4c1-9d5d-4e6c-8003-a34d3a0f860f",
   "metadata": {},
   "outputs": [
    {
     "name": "stdout",
     "output_type": "stream",
     "text": [
      "1.64 ms ± 32.5 µs per loop (mean ± std. dev. of 7 runs, 1000 loops each)\n"
     ]
    }
   ],
   "source": [
    "def latitudes(size):\n",
    "    latitudes = []\n",
    "    x = 0\n",
    "    while x < (size):\n",
    "        random_lat = random.randint(-90, 90) + random.random()\n",
    "        latitudes.append(random_lat)\n",
    "        x += 1\n",
    "    return latitudes\n",
    "\n",
    "# Call the function with 1500\n",
    "%timeit latitudes(1500)"
   ]
  },
  {
   "cell_type": "code",
   "execution_count": 21,
   "id": "a2a92d56-b19b-4df8-9f04-3cce183877df",
   "metadata": {},
   "outputs": [],
   "source": [
    "# Skill drill,, print 1500 latitudes using for loop\n",
    "x = 1 \n",
    "latitudes = []\n",
    "while x < 1501:\n",
    "    random_lat = random.randint(-90, 89) + random.random()\n",
    "    latitudes.append(random_lat)\n",
    "    x += 1"
   ]
  },
  {
   "cell_type": "code",
   "execution_count": 22,
   "id": "43ab0b8a-a623-4afb-ab59-2f63e87717f4",
   "metadata": {},
   "outputs": [
    {
     "name": "stdout",
     "output_type": "stream",
     "text": [
      "25 ns ± 0.57 ns per loop (mean ± std. dev. of 7 runs, 10000000 loops each)\n"
     ]
    }
   ],
   "source": [
    "%timeit latitudes"
   ]
  },
  {
   "cell_type": "code",
   "execution_count": null,
   "id": "7360ed7b-f70a-4b4f-ada2-684671b98b57",
   "metadata": {},
   "outputs": [],
   "source": []
  },
  {
   "cell_type": "code",
   "execution_count": null,
   "id": "13793934-d62e-4d38-8f24-266857a12e83",
   "metadata": {},
   "outputs": [],
   "source": []
  }
 ],
 "metadata": {
  "kernelspec": {
   "display_name": "Python 3",
   "language": "python",
   "name": "python3"
  },
  "language_info": {
   "codemirror_mode": {
    "name": "ipython",
    "version": 3
   },
   "file_extension": ".py",
   "mimetype": "text/x-python",
   "name": "python",
   "nbconvert_exporter": "python",
   "pygments_lexer": "ipython3",
   "version": "3.8.8"
  }
 },
 "nbformat": 4,
 "nbformat_minor": 5
}

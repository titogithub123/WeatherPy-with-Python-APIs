{
 "cells": [
  {
   "cell_type": "code",
   "execution_count": 27,
   "id": "b59400ec-d334-40d6-aad3-2b86c8aaca43",
   "metadata": {},
   "outputs": [],
   "source": [
    "#pip install citipy - citypy already installed"
   ]
  },
  {
   "cell_type": "code",
   "execution_count": 28,
   "id": "59577ae5-229b-4188-890b-29d674f6322d",
   "metadata": {},
   "outputs": [],
   "source": [
    "# Import dependencies.\n",
    "import pandas as pd\n",
    "import numpy as np\n",
    "import matplotlib.pyplot as plt\n",
    "import random\n",
    "\n",
    "# Add citypy lbrary\n",
    "from citipy import citipy"
   ]
  },
  {
   "cell_type": "code",
   "execution_count": 29,
   "id": "1643b1bc-824e-440c-bcf5-98150e949e48",
   "metadata": {},
   "outputs": [],
   "source": [
    "# Generate Lats range from -90 to 90\n",
    "# Generate Lngs range from -180 to 180"
   ]
  },
  {
   "cell_type": "code",
   "execution_count": 30,
   "id": "7cca6af3-fe7a-47b1-b0c2-9b9120b2a0b2",
   "metadata": {},
   "outputs": [
    {
     "data": {
      "text/plain": [
       "<zip at 0x1a12b1d9500>"
      ]
     },
     "execution_count": 30,
     "metadata": {},
     "output_type": "execute_result"
    }
   ],
   "source": [
    "# Create a set of random latitude and longitude combinations.\n",
    "lats = np.random.uniform(low=-90.000, high=90.000, size=10)\n",
    "lngs = np.random.uniform(low=-180.000, high=180.000, size=10)\n",
    "\n",
    "# Zip method combines the lats and lngs into a list of pairs. \n",
    "lat_lngs = zip(lats, lngs)\n",
    "lat_lngs"
   ]
  },
  {
   "cell_type": "code",
   "execution_count": 31,
   "id": "288fc18c-d916-4520-9a11-13b72c136698",
   "metadata": {},
   "outputs": [],
   "source": [
    "# Add latitudes and longitudes to a list.\n",
    "# Add the latitudes and longitudes to a list.\n",
    "coordinates = list(lat_lngs)"
   ]
  },
  {
   "cell_type": "code",
   "execution_count": 32,
   "id": "fbc824c3-ca4d-41a5-9a6f-1554507984a5",
   "metadata": {},
   "outputs": [
    {
     "data": {
      "text/plain": [
       "10"
      ]
     },
     "execution_count": 32,
     "metadata": {},
     "output_type": "execute_result"
    }
   ],
   "source": [
    "# Create a list for holding the cities.\n",
    "cities = []\n",
    "\n",
    "# Identify the nearest city for each latitude and longitude combination.\n",
    "for coordinate in coordinates:\n",
    "    city = citipy.nearest_city(coordinate[0], coordinate[1]).city_name\n",
    "\n",
    "    # If the city is unique, then we will add it to the cities list.\n",
    "    if city not in cities:\n",
    "        cities.append(city)\n",
    "# Print the city count to confirm sufficient count.\n",
    "len(cities)"
   ]
  },
  {
   "cell_type": "code",
   "execution_count": null,
   "id": "0997784e-e3ec-4f7f-bcbc-80c042e1753e",
   "metadata": {},
   "outputs": [],
   "source": []
  }
 ],
 "metadata": {
  "kernelspec": {
   "display_name": "Python 3",
   "language": "python",
   "name": "python3"
  },
  "language_info": {
   "codemirror_mode": {
    "name": "ipython",
    "version": 3
   },
   "file_extension": ".py",
   "mimetype": "text/x-python",
   "name": "python",
   "nbconvert_exporter": "python",
   "pygments_lexer": "ipython3",
   "version": "3.8.8"
  }
 },
 "nbformat": 4,
 "nbformat_minor": 5
}

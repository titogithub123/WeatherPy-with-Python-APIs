{
 "cells": [
  {
   "cell_type": "code",
   "execution_count": 5,
   "id": "ec63fa33-f010-454f-bc2f-9284bc87cf89",
   "metadata": {},
   "outputs": [],
   "source": [
    "# Create a practice set of random latitude and longitude combinations.\n",
    "x = [25.12903645, 25.92017388, 26.62509167, -59.98969384, 37.30571269]\n",
    "y = [-67.59741259, 11.09532135, 74.84233102, -76.89176677, -61.13376282]\n",
    "coordinates = zip(x, y)"
   ]
  },
  {
   "cell_type": "code",
   "execution_count": 6,
   "id": "8d28d67b-7029-43ca-b31f-4bb9052265ab",
   "metadata": {},
   "outputs": [
    {
     "data": {
      "text/plain": [
       "<zip at 0x1fd33280988>"
      ]
     },
     "execution_count": 6,
     "metadata": {},
     "output_type": "execute_result"
    }
   ],
   "source": [
    "# Call the zip file.\n",
    "coordinates"
   ]
  },
  {
   "cell_type": "code",
   "execution_count": 11,
   "id": "e067bb2c-9950-4589-9822-590347aa7867",
   "metadata": {},
   "outputs": [],
   "source": [
    "# Use the tuple() function to display the latitude and longitude combination. \n",
    "# for coordinate in coordinates:\n",
    "#     print(coordinate[0], coordinate[-1])"
   ]
  },
  {
   "cell_type": "code",
   "execution_count": 12,
   "id": "5ba6b975-188a-47c0-be9a-f4086f8c3fc0",
   "metadata": {},
   "outputs": [],
   "source": [
    "from citipy import citipy"
   ]
  },
  {
   "cell_type": "code",
   "execution_count": 13,
   "id": "1d5260f7-07cc-4db1-a013-efe460f1b07e",
   "metadata": {},
   "outputs": [],
   "source": [
    "# Use the tuple() function to display the latitude and longitude combination. \n",
    "for coordinate in coordinates:\n",
    "    print(coordinate[0], coordinate[-1])"
   ]
  },
  {
   "cell_type": "code",
   "execution_count": null,
   "id": "c456f1e1-1c4f-421b-9bac-5275fba9f21b",
   "metadata": {},
   "outputs": [],
   "source": []
  },
  {
   "cell_type": "code",
   "execution_count": null,
   "id": "db37a1aa-24aa-4f08-99a5-c51dc4d44a2b",
   "metadata": {},
   "outputs": [],
   "source": []
  }
 ],
 "metadata": {
  "kernelspec": {
   "display_name": "Python 3 (ipykernel)",
   "language": "python",
   "name": "python3"
  },
  "language_info": {
   "codemirror_mode": {
    "name": "ipython",
    "version": 3
   },
   "file_extension": ".py",
   "mimetype": "text/x-python",
   "name": "python",
   "nbconvert_exporter": "python",
   "pygments_lexer": "ipython3",
   "version": "3.7.11"
  }
 },
 "nbformat": 4,
 "nbformat_minor": 5
}
